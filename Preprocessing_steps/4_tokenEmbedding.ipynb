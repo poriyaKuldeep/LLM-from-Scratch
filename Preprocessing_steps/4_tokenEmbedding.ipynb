{
 "cells": [
  {
   "cell_type": "code",
   "execution_count": 1,
   "metadata": {},
   "outputs": [],
   "source": [
    "import torch"
   ]
  },
  {
   "cell_type": "code",
   "execution_count": 2,
   "metadata": {},
   "outputs": [],
   "source": [
    "input_ids = torch.tensor([2, 3, 5, 1])\n",
    "vocab_size = 10000\n",
    "output_dim = 10\n",
    "embedding_layer = torch.nn.Embedding(vocab_size, output_dim)"
   ]
  },
  {
   "cell_type": "code",
   "execution_count": 4,
   "metadata": {},
   "outputs": [
    {
     "name": "stdout",
     "output_type": "stream",
     "text": [
      "torch.Size([10000, 10])\n"
     ]
    }
   ],
   "source": [
    "print(embedding_layer.weight.shape)"
   ]
  },
  {
   "cell_type": "code",
   "execution_count": 5,
   "metadata": {},
   "outputs": [
    {
     "name": "stdout",
     "output_type": "stream",
     "text": [
      "tensor([[ 0.0516, -1.8631,  0.1608, -1.2794, -0.9273,  0.0852,  0.1120, -0.0431,\n",
      "         -1.3551, -2.0748]], grad_fn=<EmbeddingBackward0>)\n"
     ]
    }
   ],
   "source": [
    "print(embedding_layer(torch.tensor([3])))"
   ]
  },
  {
   "cell_type": "code",
   "execution_count": 10,
   "metadata": {},
   "outputs": [
    {
     "name": "stdout",
     "output_type": "stream",
     "text": [
      "tensor([[-0.5270,  0.6397, -1.6817,  0.0455, -1.1238,  1.1825, -0.4257,  0.4337,\n",
      "         -0.2479,  0.6132],\n",
      "        [-1.8743, -2.2545,  0.4192,  0.4700,  0.9392, -0.8323, -1.9206,  0.0154,\n",
      "         -0.3228, -0.7908],\n",
      "        [-0.4512, -1.8561, -0.5666,  0.6462, -0.1259,  1.4411, -1.2199, -0.4122,\n",
      "          0.3583, -0.0209],\n",
      "        [ 0.6331, -0.0451, -2.0320,  0.5146,  0.2990, -0.5193, -0.7738, -0.5984,\n",
      "         -0.8084,  0.3854]], grad_fn=<EmbeddingBackward0>)\n"
     ]
    }
   ],
   "source": [
    "import torch.nn as nn\n",
    "class CustomTokenEmbedder(nn.Module):\n",
    "    def __init__(self, vocab_size, embed_dim):\n",
    "        super(CustomTokenEmbedder, self).__init__()\n",
    "        self.embedding = torch.nn.Embedding(vocab_size, embed_dim)\n",
    "        \n",
    "    def forward(self, token_ids):\n",
    "        return self.embedding(token_ids)\n",
    "\n",
    "embedder = CustomTokenEmbedder(vocab_size, output_dim)\n",
    "token_ids = torch.tensor([1, 5, 10, 100], dtype=torch.long)\n",
    "embeddings = embedder(token_ids)\n",
    "print(embeddings)\n"
   ]
  }
 ],
 "metadata": {
  "kernelspec": {
   "display_name": "Python 3",
   "language": "python",
   "name": "python3"
  },
  "language_info": {
   "codemirror_mode": {
    "name": "ipython",
    "version": 3
   },
   "file_extension": ".py",
   "mimetype": "text/x-python",
   "name": "python",
   "nbconvert_exporter": "python",
   "pygments_lexer": "ipython3",
   "version": "3.9.7"
  }
 },
 "nbformat": 4,
 "nbformat_minor": 2
}
