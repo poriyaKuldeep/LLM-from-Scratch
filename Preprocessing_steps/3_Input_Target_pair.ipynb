{
 "cells": [
  {
   "cell_type": "markdown",
   "metadata": {},
   "source": [
    "### Existing code"
   ]
  },
  {
   "cell_type": "code",
   "execution_count": 1,
   "metadata": {},
   "outputs": [
    {
     "name": "stdout",
     "output_type": "stream",
     "text": [
      "I HAD always thought Jack Gisburn rather a cheap <|unk|>\n"
     ]
    }
   ],
   "source": [
    "import re\n",
    "with open(\"verdictbook.txt\",\"r\",encoding=\"utf-8\") as f:\n",
    "    booktext=f.read()\n",
    "result = re.split(r'([,.:;?_!\"()\\']|--|\\s)', booktext)\n",
    "result=[word.strip() for word in result if word.strip()]\n",
    "sortedMAP=sorted(set(result))\n",
    "sortedMAP.extend([\"<|endoftext|>\", \"<|unk|>\"])\n",
    "string_to_number={txt:num for num,txt in enumerate(sortedMAP)}\n",
    "class Simpletokenizerv2:\n",
    "    def __init__(self,vocab):\n",
    "        self.string_to_number=vocab\n",
    "        self.number_to_string={num:txt for txt,num in self.string_to_number.items()}\n",
    "    \n",
    "    def encode(self,text):\n",
    "        text = re.split(r'([,.:;?_!\"()\\']|--|\\s)', text)\n",
    "        text=[word.strip() for word in text if word.strip()]\n",
    "        result=[self.string_to_number[idx] if idx in self.string_to_number else self.string_to_number[\"<|unk|>\"] for idx in text]\n",
    "\n",
    "        return result\n",
    "\n",
    "    def decoder(self,encoded):\n",
    "        text=\" \".join([self.number_to_string[idx] for idx in encoded])\n",
    "        text = re.sub(r'([,.:;?_!\"()\\']|--|\\s)',r'\\1', text)\n",
    "        return text\n",
    "\n",
    "\n",
    "tokenizer=Simpletokenizerv2(string_to_number)\n",
    "result=tokenizer.encode('I HAD always thought Jack Gisburn rather a cheap newword')\n",
    "result=tokenizer.decoder(result)\n",
    "print(result)\n",
    "\n",
    "\n"
   ]
  },
  {
   "cell_type": "markdown",
   "metadata": {},
   "source": [
    "### Creating input target pair"
   ]
  },
  {
   "cell_type": "code",
   "execution_count": 7,
   "metadata": {},
   "outputs": [
    {
     "name": "stdout",
     "output_type": "stream",
     "text": [
      "[53] --> 44\n",
      "[53, 44] --> 149\n",
      "[53, 44, 149] --> 1003\n",
      "[53, 44, 149, 1003] --> 57\n",
      "[53, 44, 149, 1003, 57] --> 38\n",
      "[53, 44, 149, 1003, 57, 38] --> 818\n",
      "[53, 44, 149, 1003, 57, 38, 818] --> 115\n",
      "[53, 44, 149, 1003, 57, 38, 818, 115] --> 256\n",
      "[53, 44, 149, 1003, 57, 38, 818, 115, 256] --> 1131\n",
      "I --> HAD\n",
      "I HAD --> always\n",
      "I HAD always --> thought\n",
      "I HAD always thought --> Jack\n",
      "I HAD always thought Jack --> Gisburn\n",
      "I HAD always thought Jack Gisburn --> rather\n",
      "I HAD always thought Jack Gisburn rather --> a\n",
      "I HAD always thought Jack Gisburn rather a --> cheap\n",
      "I HAD always thought Jack Gisburn rather a cheap --> <|unk|>\n"
     ]
    }
   ],
   "source": [
    "encoded=tokenizer.encode('I HAD always thought Jack Gisburn rather a cheap newword')\n",
    "\n",
    "Context_size=9\n",
    "for i in range(1,Context_size+1):\n",
    "    context=encoded[:i]\n",
    "    decoded=encoded[i]\n",
    "\n",
    "    print(context ,\"-->\", decoded)\n",
    "\n",
    "\n",
    "for i in range(1,Context_size+1):\n",
    "    context=encoded[:i]\n",
    "    decoded=encoded[i]\n",
    "\n",
    "    print(tokenizer.decoder(context) ,\"-->\", tokenizer.decoder([decoded]))\n",
    "\n",
    "\n",
    "\n"
   ]
  },
  {
   "cell_type": "markdown",
   "metadata": {},
   "source": [
    "### Implementing a dataloader"
   ]
  },
  {
   "cell_type": "code",
   "execution_count": 21,
   "metadata": {},
   "outputs": [],
   "source": [
    "from torch.utils.data import Dataset, DataLoader\n",
    "import tiktoken\n",
    "import torch\n",
    "\n",
    "class DatasetclassV1(Dataset):\n",
    "    def __init__(self,txt,encoder,strides,maxlen):\n",
    "        self.inputlist=[]\n",
    "        self.targetlist=[]\n",
    "\n",
    "        tokenized = encoder.encode(txt, allowed_special={\"<|endoftext|>\"})\n",
    "    \n",
    "        for i in range(0,len(tokenized)-maxlen,strides):\n",
    "            input_chunk=tokenized[i:i+maxlen]\n",
    "            target_chunk=tokenized[i+1:i+maxlen+1]\n",
    "            self.inputlist.append(torch.tensor(input_chunk))\n",
    "            self.targetlist.append(torch.tensor(target_chunk))\n",
    "\n",
    "    def __len__(self):\n",
    "        return len(self.targetlist)\n",
    "\n",
    "    def __getitem__(self, index):\n",
    "        return self.inputlist[index],self.targetlist[index]\n",
    "    \n",
    "\n",
    "\n",
    "\n",
    "def create_dataloader_v1 (txt, batch_size=4, max_length=256,stride=128, shuffle=True, drop_last=True,num_workers=0):\n",
    "    tokenizer = tiktoken.get_encoding(\"gpt2\")\n",
    "    datasetobj=DatasetclassV1(txt,tokenizer,stride,max_length)\n",
    "    dataloader = DataLoader(\n",
    "        datasetobj,\n",
    "        batch_size=batch_size,\n",
    "        shuffle=shuffle,\n",
    "        drop_last=drop_last,\n",
    "        num_workers=num_workers\n",
    "    )\n",
    "\n",
    "    return dataloader\n",
    "\n"
   ]
  },
  {
   "cell_type": "code",
   "execution_count": 24,
   "metadata": {},
   "outputs": [
    {
     "name": "stdout",
     "output_type": "stream",
     "text": [
      "[tensor([[  40,  367, 2885, 1464]]), tensor([[ 367, 2885, 1464, 1807]])]\n"
     ]
    }
   ],
   "source": [
    "with open(\"verdictbook.txt\", \"r\", encoding=\"utf-8\") as f:\n",
    "    raw_text = f.read()\n",
    "\n",
    "\n",
    "dataloader = create_dataloader_v1(raw_text, batch_size=1, max_length=4, stride=1, shuffle=False)\n",
    "\n",
    "data_iter = iter(dataloader)\n",
    "first_batch = next(data_iter)\n",
    "print(first_batch)"
   ]
  }
 ],
 "metadata": {
  "kernelspec": {
   "display_name": "Python 3",
   "language": "python",
   "name": "python3"
  },
  "language_info": {
   "codemirror_mode": {
    "name": "ipython",
    "version": 3
   },
   "file_extension": ".py",
   "mimetype": "text/x-python",
   "name": "python",
   "nbconvert_exporter": "python",
   "pygments_lexer": "ipython3",
   "version": "3.9.7"
  }
 },
 "nbformat": 4,
 "nbformat_minor": 2
}
