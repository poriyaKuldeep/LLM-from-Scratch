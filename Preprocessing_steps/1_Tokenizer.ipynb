{
 "cells": [
  {
   "cell_type": "markdown",
   "metadata": {},
   "source": [
    "# Basics"
   ]
  },
  {
   "cell_type": "code",
   "execution_count": 24,
   "metadata": {},
   "outputs": [],
   "source": [
    "with open(\"verdictbook.txt\",\"r\",encoding=\"utf-8\") as f:\n",
    "    booktext=f.read()"
   ]
  },
  {
   "cell_type": "markdown",
   "metadata": {},
   "source": [
    "Using RE to split"
   ]
  },
  {
   "cell_type": "code",
   "execution_count": 37,
   "metadata": {},
   "outputs": [
    {
     "data": {
      "text/plain": [
       "'I HAD always thought Jack Gisburn rather a cheap g'"
      ]
     },
     "execution_count": 37,
     "metadata": {},
     "output_type": "execute_result"
    }
   ],
   "source": [
    "booktext[:0]"
   ]
  },
  {
   "cell_type": "code",
   "execution_count": null,
   "metadata": {},
   "outputs": [],
   "source": [
    "result[:50]"
   ]
  },
  {
   "cell_type": "code",
   "execution_count": null,
   "metadata": {},
   "outputs": [],
   "source": [
    "sortedMAP=sorted(set(result))\n",
    "string_to_number={txt:num for num,txt in enumerate(sortedMAP)}\n",
    "number_to_string={num:txt for txt,num in string_to_number.items()}\n",
    "number_to_string\n"
   ]
  },
  {
   "cell_type": "markdown",
   "metadata": {},
   "source": [
    "# Simple tokenizer class"
   ]
  },
  {
   "cell_type": "code",
   "execution_count": 54,
   "metadata": {},
   "outputs": [],
   "source": [
    "class Simpletokenizer:\n",
    "    def __init__(self,vocab):\n",
    "        self.string_to_number=vocab\n",
    "        self.number_to_string={num:txt for txt,num in self.string_to_number.items()}\n",
    "    \n",
    "    def encode(self,text):\n",
    "        text = re.split(r'([,.:;?_!\"()\\']|--|\\s)', text)\n",
    "        text=[word.strip() for word in text if word.strip()]\n",
    "        result=[self.string_to_number[idx] for idx in text]\n",
    "        return result\n",
    "\n",
    "    def decoder(self,encoded):\n",
    "        text=\" \".join([self.number_to_string[idx] for idx in encoded])\n",
    "        text = re.sub(r'([,.:;?_!\"()\\']|--|\\s)',r'\\1', text)\n",
    "        return text"
   ]
  },
  {
   "cell_type": "code",
   "execution_count": 55,
   "metadata": {},
   "outputs": [
    {
     "name": "stdout",
     "output_type": "stream",
     "text": [
      "I HAD always thought Jack Gisburn rather a cheap\n"
     ]
    }
   ],
   "source": [
    "tokenizer=Simpletokenizer(string_to_number)\n",
    "result=tokenizer.encode('I HAD always thought Jack Gisburn rather a cheap')\n",
    "result=tokenizer.decoder(result)\n",
    "print(result)\n"
   ]
  },
  {
   "cell_type": "markdown",
   "metadata": {},
   "source": [
    "# new tokensizer with special character tokens"
   ]
  },
  {
   "cell_type": "code",
   "execution_count": 66,
   "metadata": {},
   "outputs": [],
   "source": [
    "import re\n",
    "with open(\"verdictbook.txt\",\"r\",encoding=\"utf-8\") as f:\n",
    "    booktext=f.read()\n",
    "result = re.split(r'([,.:;?_!\"()\\']|--|\\s)', booktext)\n",
    "result=[word.strip() for word in result if word.strip()]\n",
    "sortedMAP=sorted(set(result))\n",
    "sortedMAP.extend([\"<|endoftext|>\", \"<|unk|>\"])\n",
    "string_to_number={txt:num for num,txt in enumerate(sortedMAP)}\n",
    "\n"
   ]
  },
  {
   "cell_type": "code",
   "execution_count": 69,
   "metadata": {},
   "outputs": [],
   "source": [
    "class Simpletokenizerv2:\n",
    "    def __init__(self,vocab):\n",
    "        self.string_to_number=vocab\n",
    "        self.number_to_string={num:txt for txt,num in self.string_to_number.items()}\n",
    "    \n",
    "    def encode(self,text):\n",
    "        text = re.split(r'([,.:;?_!\"()\\']|--|\\s)', text)\n",
    "        text=[word.strip() for word in text if word.strip()]\n",
    "        result=[self.string_to_number[idx] if idx in self.string_to_number else self.string_to_number[\"<|unk|>\"] for idx in text]\n",
    "\n",
    "        return result\n",
    "\n",
    "    def decoder(self,encoded):\n",
    "        text=\" \".join([self.number_to_string[idx] for idx in encoded])\n",
    "        text = re.sub(r'([,.:;?_!\"()\\']|--|\\s)',r'\\1', text)\n",
    "        return text"
   ]
  },
  {
   "cell_type": "code",
   "execution_count": 70,
   "metadata": {},
   "outputs": [
    {
     "name": "stdout",
     "output_type": "stream",
     "text": [
      "I HAD always thought Jack Gisburn rather a cheap <|unk|>\n"
     ]
    }
   ],
   "source": [
    "tokenizer=Simpletokenizerv2(string_to_number)\n",
    "result=tokenizer.encode('I HAD always thought Jack Gisburn rather a cheap newword')\n",
    "result=tokenizer.decoder(result)\n",
    "print(result)\n"
   ]
  }
 ],
 "metadata": {
  "kernelspec": {
   "display_name": "Python 3",
   "language": "python",
   "name": "python3"
  },
  "language_info": {
   "codemirror_mode": {
    "name": "ipython",
    "version": 3
   },
   "file_extension": ".py",
   "mimetype": "text/x-python",
   "name": "python",
   "nbconvert_exporter": "python",
   "pygments_lexer": "ipython3",
   "version": "3.9.7"
  }
 },
 "nbformat": 4,
 "nbformat_minor": 2
}
