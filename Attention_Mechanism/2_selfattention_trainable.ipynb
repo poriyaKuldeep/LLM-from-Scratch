{
 "cells": [
  {
   "cell_type": "code",
   "execution_count": 1,
   "metadata": {},
   "outputs": [],
   "source": [
    "import torch\n",
    "\n",
    "inputs = torch.tensor(\n",
    "  [[0.43, 0.15, 0.89], # Your     (x^1)\n",
    "   [0.55, 0.87, 0.66], # journey  (x^2)\n",
    "   [0.57, 0.85, 0.64], # starts   (x^3)\n",
    "   [0.22, 0.58, 0.33], # with     (x^4)\n",
    "   [0.77, 0.25, 0.10], # one      (x^5)\n",
    "   [0.05, 0.80, 0.55]] # step     (x^6)\n",
    ")"
   ]
  },
  {
   "cell_type": "code",
   "execution_count": 4,
   "metadata": {},
   "outputs": [
    {
     "name": "stdout",
     "output_type": "stream",
     "text": [
      "tensor([[0.2996, 0.8053],\n",
      "        [0.3061, 0.8210],\n",
      "        [0.3058, 0.8203],\n",
      "        [0.2948, 0.7939],\n",
      "        [0.2927, 0.7891],\n",
      "        [0.2990, 0.8040]], grad_fn=<MmBackward0>)\n"
     ]
    }
   ],
   "source": [
    "import torch.nn as nn\n",
    "\n",
    "class ATTNmechsimple(nn.Module):\n",
    "    def __init__ (self,din,dout):\n",
    "        super().__init__()\n",
    "        self.W_query=nn.Parameter(torch.rand(din,dout))\n",
    "        self.W_key=nn.Parameter(torch.rand(din,dout))\n",
    "        self.W_value=nn.Parameter(torch.rand(din,dout))\n",
    "    \n",
    "    def forward(self,x):\n",
    "        query= x @ self.W_query \n",
    "        keys= x @ self.W_key\n",
    "        values=x @ self.W_value \n",
    "\n",
    "        scores=query @ keys.T\n",
    "        attn_Weights=torch.softmax(scores/(keys.shape[-1])**0.5,dim=-1)\n",
    "\n",
    "        context_vec=attn_Weights @ values\n",
    "        return context_vec\n",
    "    \n",
    "torch.manual_seed(123)\n",
    "sa_v1 = ATTNmechsimple(inputs.shape[1], 2)\n",
    "print(sa_v1(inputs))\n",
    "\n"
   ]
  },
  {
   "cell_type": "code",
   "execution_count": 7,
   "metadata": {},
   "outputs": [
    {
     "name": "stdout",
     "output_type": "stream",
     "text": [
      "tensor([[-0.0739,  0.0713],\n",
      "        [-0.0748,  0.0703],\n",
      "        [-0.0749,  0.0702],\n",
      "        [-0.0760,  0.0685],\n",
      "        [-0.0763,  0.0679],\n",
      "        [-0.0754,  0.0693]], grad_fn=<MmBackward0>)\n"
     ]
    }
   ],
   "source": [
    "import torch.nn as nn\n",
    "\n",
    "class ATTNmechsimple(nn.Module):\n",
    "    def __init__ (self,din,dout,biasbool=False):\n",
    "        super().__init__()\n",
    "        self.W_query=nn.Linear(din,dout,bias=biasbool)\n",
    "        self.W_key=nn.Linear(din,dout,bias=biasbool)\n",
    "        self.W_value=nn.Linear(din,dout,bias=biasbool)\n",
    "    \n",
    "    def forward(self,x):\n",
    "        query= self.W_query (x)\n",
    "        keys= self.W_key (x)\n",
    "        values=self.W_value (x)\n",
    "\n",
    "        scores=query @ keys.T\n",
    "        attn_Weights=torch.softmax(scores/(keys.shape[-1])**0.5,dim=-1)\n",
    "\n",
    "        context_vec=attn_Weights @ values\n",
    "        return context_vec\n",
    "    \n",
    "torch.manual_seed(789)\n",
    "sa_v1 = ATTNmechsimple(inputs.shape[1], 2)\n",
    "print(sa_v1(inputs))\n",
    "\n"
   ]
  }
 ],
 "metadata": {
  "kernelspec": {
   "display_name": "Python 3",
   "language": "python",
   "name": "python3"
  },
  "language_info": {
   "codemirror_mode": {
    "name": "ipython",
    "version": 3
   },
   "file_extension": ".py",
   "mimetype": "text/x-python",
   "name": "python",
   "nbconvert_exporter": "python",
   "pygments_lexer": "ipython3",
   "version": "3.9.7"
  }
 },
 "nbformat": 4,
 "nbformat_minor": 2
}
