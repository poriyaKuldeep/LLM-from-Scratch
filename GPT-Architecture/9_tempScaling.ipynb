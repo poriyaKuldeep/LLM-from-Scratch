{
 "cells": [
  {
   "cell_type": "markdown",
   "metadata": {},
   "source": [
    "## without Temp scaling"
   ]
  },
  {
   "cell_type": "code",
   "execution_count": 1,
   "metadata": {},
   "outputs": [],
   "source": [
    "import torch\n",
    "def generatenextword(model,idx,max_token_size,context_Size):\n",
    "\n",
    "    for _ in range(max_token_size):\n",
    "        idx_split=idx[:,-context_Size:]\n",
    "\n",
    "        with torch.no_grad():\n",
    "            logit=model(idx_split)\n",
    "\n",
    "        ## logit [ batch tokens vocabsize]\n",
    "        logitslast=logit[:,-1,:]\n",
    "\n",
    "        prob=torch.softmax(logitslast,dim=-1)\n",
    "        maxi=torch.argmax(prob,dim=-1,keepdim=True)\n",
    "        idx=torch.cat((idx,maxi),dim=1)\n",
    "    return idx  \n",
    "\n"
   ]
  },
  {
   "cell_type": "markdown",
   "metadata": {},
   "source": [
    "## with TEMP SCALING"
   ]
  },
  {
   "cell_type": "code",
   "execution_count": null,
   "metadata": {},
   "outputs": [],
   "source": [
    "import torch\n",
    "\n",
    "def generate_text_simple(model, idx, max_new_tokens, context_size, temperature=1.0):\n",
    "    for _ in range(max_new_tokens):\n",
    "        idx_cond = idx[:, -context_size:]\n",
    "        \n",
    "        with torch.no_grad():\n",
    "            logits = model(idx_cond)\n",
    "        \n",
    "        logits = logits[:, -1, :]  \n",
    "        logits = logits / temperature  ### new changes here\n",
    "        probas = torch.softmax(logits, dim=-1)  \n",
    "        idx_next = torch.multinomial(probas, num_samples=1)  ### new changes here\n",
    "        \n",
    "        idx = torch.cat((idx, idx_next), dim=1)  \n",
    "\n",
    "    return idx\n"
   ]
  }
 ],
 "metadata": {
  "kernelspec": {
   "display_name": "Python 3",
   "language": "python",
   "name": "python3"
  },
  "language_info": {
   "codemirror_mode": {
    "name": "ipython",
    "version": 3
   },
   "file_extension": ".py",
   "mimetype": "text/x-python",
   "name": "python",
   "nbconvert_exporter": "python",
   "pygments_lexer": "ipython3",
   "version": "3.9.7"
  }
 },
 "nbformat": 4,
 "nbformat_minor": 2
}
