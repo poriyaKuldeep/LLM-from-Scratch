{
 "cells": [
  {
   "cell_type": "code",
   "execution_count": 1,
   "metadata": {},
   "outputs": [],
   "source": [
    "import torch\n",
    "import torch.nn as nn\n",
    "\n",
    "GPT_CONFIG_124M = {\n",
    "    \"vocab_size\": 50257,    \n",
    "    \"context_length\": 1024, \n",
    "    \"emb_dim\": 768,         \n",
    "    \"n_heads\": 12,          \n",
    "    \"n_layers\": 12,         \n",
    "    \"drop_rate\": 0.1,       \n",
    "    \"qkv_bias\": False       \n",
    "}"
   ]
  },
  {
   "cell_type": "code",
   "execution_count": 2,
   "metadata": {},
   "outputs": [
    {
     "name": "stdout",
     "output_type": "stream",
     "text": [
      "tensor([[6109, 3626, 6100,  345],\n",
      "        [6109, 1110, 6622,  257]])\n"
     ]
    }
   ],
   "source": [
    "import tiktoken\n",
    "\n",
    "tokenizer = tiktoken.get_encoding(\"gpt2\")\n",
    "\n",
    "batch = []\n",
    "\n",
    "txt1 = \"Every effort moves you\"\n",
    "txt2 = \"Every day holds a\"\n",
    "\n",
    "batch.append(torch.tensor(tokenizer.encode(txt1)))\n",
    "batch.append(torch.tensor(tokenizer.encode(txt2)))\n",
    "batch = torch.stack(batch, dim=0)\n",
    "print(batch)"
   ]
  },
  {
   "cell_type": "code",
   "execution_count": 3,
   "metadata": {},
   "outputs": [],
   "source": [
    "class multiheadv2(nn.Module):\n",
    "    def __init__(self,d_in,d_out,context_length,dropout,attention_head,boolbias):\n",
    "        super().__init__()\n",
    "        self.head_dim=d_out//attention_head\n",
    "        self.d_out=d_out\n",
    "        self.attention_head=attention_head\n",
    "\n",
    "        self.W_query = nn.Linear(d_in, d_out, bias=boolbias)\n",
    "        self.W_key = nn.Linear(d_in, d_out, bias=boolbias)\n",
    "        self.W_value = nn.Linear(d_in, d_out, bias=boolbias)\n",
    "\n",
    "        self.out_proj = nn.Linear(d_out, d_out)  \n",
    "        self.dropout = nn.Dropout(dropout)\n",
    "        self.register_buffer('mask', torch.triu(torch.ones(context_length, context_length), diagonal=1))\n",
    "\n",
    "    def forward(self,x):\n",
    "        b,num_token,d_out=x.shape\n",
    "\n",
    "        keys = self.W_key(x) \n",
    "        queries = self.W_query(x)\n",
    "        values = self.W_value(x)\n",
    "\n",
    "        keys=keys.view(b,num_token,self.attention_head,self.head_dim)\n",
    "        queries=queries.view(b,num_token,self.attention_head,self.head_dim)\n",
    "        values=values.view(b,num_token,self.attention_head,self.head_dim)\n",
    "\n",
    "        keys = keys.transpose(1, 2)\n",
    "        queries = queries.transpose(1, 2)\n",
    "        values = values.transpose(1, 2)\n",
    "\n",
    "        attn_score=queries @ keys.transpose(2,3)\n",
    "\n",
    "        mask_bool = self.mask.bool()[:num_token, :num_token]\n",
    "        attn_score.masked_fill_(mask_bool, -torch.inf)\n",
    "        \n",
    "        attn_weights = torch.softmax(attn_score / keys.shape[-1]**0.5, dim=-1)\n",
    "        attn_weights = self.dropout(attn_weights)\n",
    "\n",
    "\n",
    "        context_vec = (attn_weights @ values).transpose(1, 2) \n",
    "        \n",
    "        context_vec = context_vec.contiguous().view(b, num_token, self.d_out)\n",
    "        context_vec = self.out_proj(context_vec) # optional projection\n",
    "\n",
    "        return context_vec\n",
    "            \n"
   ]
  },
  {
   "cell_type": "code",
   "execution_count": 4,
   "metadata": {},
   "outputs": [],
   "source": [
    "class LayerNorm(nn.Module):\n",
    "    def __init__(self,emb_dim):\n",
    "        super().__init__()\n",
    "        self.eps=1e-5\n",
    "        self.scale_params=nn.Parameter(torch.ones(emb_dim))\n",
    "        self.shift_params=nn.Parameter(torch.zeros(emb_dim))\n",
    "    \n",
    "    def forward(self,x):\n",
    "        mean=x.mean(dim=-1,keepdim=True)\n",
    "        var=x.var(dim=-1,keepdim=True,unbiased=False)\n",
    "        norm=(x-mean)/torch.sqrt(var+self.eps)\n",
    "        return norm*self.scale_params+ self.shift_params\n",
    "    \n",
    "        "
   ]
  },
  {
   "cell_type": "code",
   "execution_count": 5,
   "metadata": {},
   "outputs": [],
   "source": [
    "class GELU(nn.Module):\n",
    "    def __init__(self):\n",
    "        super().__init__()\n",
    "\n",
    "    def forward(self, x):\n",
    "        return 0.5 * x * (1 + torch.tanh(torch.sqrt(torch.tensor(2.0 / torch.pi)) *(x + 0.044715 * torch.pow(x, 3))\n",
    "        ))\n",
    "    \n",
    "\n",
    "class feedforward(nn.Module):\n",
    "    def __init__(self,config):\n",
    "        super().__init__()\n",
    "        self.layers=nn.Sequential(\n",
    "            nn.Linear(config['emb_dim'],config['emb_dim']*4),\n",
    "            GELU(),\n",
    "            nn.Linear(config['emb_dim']*4,config['emb_dim']),\n",
    "\n",
    "        )\n",
    "    \n",
    "    def forward(self,x):\n",
    "        return self.layers(x)"
   ]
  },
  {
   "cell_type": "code",
   "execution_count": 6,
   "metadata": {},
   "outputs": [],
   "source": [
    "class TransformerBlock(nn.Module):\n",
    "    def __init__ (self,config):\n",
    "        super().__init__()\n",
    "        self.attn=multiheadv2(d_in=config['emb_dim'],d_out=config['emb_dim'],context_length=config['context_length'],dropout=config['drop_rate'],attention_head=config['n_heads'],boolbias=config['qkv_bias'])\n",
    "        self.Layernorm1=LayerNorm(emb_dim=config['emb_dim'])\n",
    "        self.Layernorm2=LayerNorm(emb_dim=config['emb_dim'])\n",
    "        self.feedforw=feedforward(config=config)\n",
    "        self.dropout=nn.Dropout(config['drop_rate'])\n",
    "    \n",
    "    def forward(self,x):\n",
    "        ## attnetion block\n",
    "        skip=x\n",
    "        x=self.Layernorm1(x)\n",
    "        x=self.attn(x)\n",
    "        x=self.dropout(x)\n",
    "        x=x+skip\n",
    "\n",
    "        ## feed forward nn block\n",
    "        skip=x\n",
    "        x=self.Layernorm2(x)\n",
    "        x=self.feedforw(x)\n",
    "        x=self.dropout(x)\n",
    "        x=x+skip\n",
    "\n",
    "        return x\n"
   ]
  },
  {
   "cell_type": "code",
   "execution_count": 7,
   "metadata": {},
   "outputs": [],
   "source": [
    "class GPT_2(nn.Module):\n",
    "    def __init__ (self,cfg):\n",
    "        super().__init__()\n",
    "        self.token_emb=nn.Embedding(cfg['vocab_size'],cfg[\"emb_dim\"])\n",
    "        self.pos_emb=nn.Embedding(cfg['context_length'],cfg[\"emb_dim\"])\n",
    "        self.drop_emb = nn.Dropout(cfg[\"drop_rate\"])\n",
    "        self.trf_blocks = nn.Sequential(\n",
    "            *[TransformerBlock(cfg) for _ in range(cfg[\"n_layers\"])])\n",
    "        \n",
    "        self.final_norm = LayerNorm(cfg[\"emb_dim\"])\n",
    "        self.out_head = nn.Linear(\n",
    "            cfg[\"emb_dim\"], cfg[\"vocab_size\"], bias=False\n",
    "        )\n",
    "    \n",
    "    def forward(self,inputidx):\n",
    "        batch_size,seq=inputidx.shape\n",
    "        tokens=self.token_emb(inputidx)\n",
    "        pos_embeds = self.pos_emb(torch.arange(seq, device=inputidx.device))\n",
    "        x=tokens+pos_embeds\n",
    "        x=self.drop_emb(x)\n",
    "        x = self.trf_blocks(x)\n",
    "        x = self.final_norm(x)\n",
    "        logits = self.out_head(x)\n",
    "        return logits\n",
    "    \n",
    "\n"
   ]
  },
  {
   "cell_type": "code",
   "execution_count": 8,
   "metadata": {},
   "outputs": [],
   "source": [
    "model = GPT_2(GPT_CONFIG_124M)\n",
    "\n",
    "out = model(batch)"
   ]
  },
  {
   "cell_type": "markdown",
   "metadata": {},
   "source": [
    "# Generate new word"
   ]
  },
  {
   "cell_type": "code",
   "execution_count": 9,
   "metadata": {},
   "outputs": [],
   "source": [
    "def generatenextword(model,idx,max_token_size,context_Size):\n",
    "\n",
    "    for _ in range(max_token_size):\n",
    "        idx_split=idx[:,-context_Size:]\n",
    "\n",
    "        with torch.no_grad():\n",
    "            logit=model(idx_split)\n",
    "\n",
    "        ## logit [ batch tokens vocabsize]\n",
    "        logitslast=logit[:,-1,:]\n",
    "\n",
    "        prob=torch.softmax(logitslast,dim=-1)\n",
    "        maxi=torch.argmax(prob,dim=-1,keepdim=True)\n",
    "        idx=torch.cat((idx,maxi),dim=1)\n",
    "    return idx  \n",
    "\n"
   ]
  },
  {
   "cell_type": "code",
   "execution_count": 16,
   "metadata": {},
   "outputs": [
    {
     "name": "stdout",
     "output_type": "stream",
     "text": [
      "Hello, how are selected avail req repeatedActivity adapt\n"
     ]
    }
   ],
   "source": [
    "start_context = \"Hello, how are\"\n",
    "\n",
    "encoded = tokenizer.encode(start_context)\n",
    "encoded_tensor = torch.tensor(encoded).unsqueeze(0)\n",
    "model.eval() \n",
    "\n",
    "out = generatenextword(model,encoded_tensor,6,GPT_CONFIG_124M[\"context_length\"])\n",
    "decoded_text = tokenizer.decode(out.squeeze(0).tolist())\n",
    "print(decoded_text)"
   ]
  },
  {
   "cell_type": "markdown",
   "metadata": {},
   "source": [
    "# Loss function"
   ]
  },
  {
   "cell_type": "code",
   "execution_count": 17,
   "metadata": {},
   "outputs": [
    {
     "name": "stdout",
     "output_type": "stream",
     "text": [
      "Cross-Entropy Loss: 10.7045\n",
      "Perplexity: 44555.2344\n"
     ]
    }
   ],
   "source": [
    "import torch\n",
    "import torch.nn.functional as F\n",
    "\n",
    "\n",
    "loss_fn = torch.nn.CrossEntropyLoss()\n",
    "\n",
    "def compute_loss(model, tokenizer, start_context, target_text):\n",
    "\n",
    "    input_ids = tokenizer.encode(start_context)\n",
    "    target_ids = tokenizer.encode(target_text)\n",
    "\n",
    "\n",
    "    input_tensor = torch.tensor(input_ids).unsqueeze(0) \n",
    "    target_tensor = torch.tensor(target_ids)  \n",
    "\n",
    "    model.eval()\n",
    "    with torch.no_grad():\n",
    "        logits = model(input_tensor) \n",
    "\n",
    " \n",
    "    logits = logits.flatten(0, 1)  \n",
    "    target_tensor = target_tensor.flatten()  \n",
    "\n",
    "\n",
    "    loss = loss_fn(logits, target_tensor)\n",
    "    \n",
    "    perplexity = torch.exp(loss)\n",
    "\n",
    "    return loss.item(), perplexity.item()\n",
    "\n",
    "\n",
    "start_context = \"Hello, how are\"\n",
    "target_text = \"you doing today?\"\n",
    "\n",
    "loss, perplexity = compute_loss(model, tokenizer, start_context, target_text)\n",
    "print(f\"Cross-Entropy Loss: {loss:.4f}\")\n",
    "print(f\"Perplexity: {perplexity:.4f}\")\n"
   ]
  }
 ],
 "metadata": {
  "kernelspec": {
   "display_name": "Python 3",
   "language": "python",
   "name": "python3"
  },
  "language_info": {
   "codemirror_mode": {
    "name": "ipython",
    "version": 3
   },
   "file_extension": ".py",
   "mimetype": "text/x-python",
   "name": "python",
   "nbconvert_exporter": "python",
   "pygments_lexer": "ipython3",
   "version": "3.9.7"
  }
 },
 "nbformat": 4,
 "nbformat_minor": 2
}
